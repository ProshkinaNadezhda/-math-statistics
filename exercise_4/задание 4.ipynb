{
 "cells": [
  {
   "cell_type": "code",
   "execution_count": 99,
   "id": "e9f9ef6a-afa4-4d54-b14e-ad70bf54f1f8",
   "metadata": {},
   "outputs": [],
   "source": [
    "import numpy as np\n",
    "import math\n",
    "import random as rd\n",
    "import matplotlib.pyplot as plt"
   ]
  },
  {
   "cell_type": "code",
   "execution_count": 100,
   "id": "082746ce-7d1d-4ec4-9388-2bb6721ee570",
   "metadata": {},
   "outputs": [
    {
     "data": {
      "text/plain": [
       "array([187, 108, 190, 103, 195, 191, 165, 111, 174, 149, 146, 115, 124,\n",
       "       141, 107, 151, 122, 130, 121, 194, 189, 195, 125, 198, 190, 145,\n",
       "       113, 193, 190, 137, 193, 190, 175, 185, 107, 179, 156, 107, 108,\n",
       "       144, 172, 108, 164, 165, 160, 168, 102, 152, 103, 147, 102, 188,\n",
       "       192, 151, 131, 178, 196, 119, 103, 121, 177, 122, 157, 164, 183,\n",
       "       137, 135, 116, 190, 111, 142, 145, 116, 127, 135, 147, 187, 113,\n",
       "       104, 136, 178, 169, 129, 178, 126, 119, 193, 124, 184, 154, 111,\n",
       "       124, 165, 171, 117, 194, 158, 152, 161, 170])"
      ]
     },
     "execution_count": 100,
     "metadata": {},
     "output_type": "execute_result"
    }
   ],
   "source": [
    "t, N, b = 100, 100, 0.95\n",
    "data = np.array([rd.randint(t, 2 * t) for i in range(N)])\n",
    "data"
   ]
  },
  {
   "cell_type": "markdown",
   "id": "7d28974c-a7c6-4c1b-98c6-099e86940083",
   "metadata": {},
   "source": [
    "точный доверительный интервал для t"
   ]
  },
  {
   "cell_type": "code",
   "execution_count": 102,
   "id": "9ea3910a-46f1-4b12-8262-281e676ec8f2",
   "metadata": {},
   "outputs": [
    {
     "name": "stdout",
     "output_type": "stream",
     "text": [
      "( 99.01253231488529 ; 100.82578829265128 )\n"
     ]
    }
   ],
   "source": [
    "x1 = max(data) / (1 + ((1 + b) / 2)**(1 / N))\n",
    "x2 = max(data) / (1 + ((1 - b) / 2)**(1 / N))\n",
    "print('(', x1, ';', x2,')')\n",
    "d1 = x2 - x1"
   ]
  },
  {
   "cell_type": "markdown",
   "id": "940ab803-408f-494c-9c3b-ee3e901d8114",
   "metadata": {},
   "source": [
    "асимптотический доверительный интервал для t"
   ]
  },
  {
   "cell_type": "markdown",
   "id": "e18f8517-288d-4237-a5f9-aeb4f6a13762",
   "metadata": {},
   "source": [
    "ОММ"
   ]
  },
  {
   "cell_type": "code",
   "execution_count": 103,
   "id": "87ecef96-8815-4911-b1e9-4fe6b9795d23",
   "metadata": {},
   "outputs": [
    {
     "name": "stdout",
     "output_type": "stream",
     "text": [
      "( 95.88773638520011 ; 103.92559694813322 )\n"
     ]
    }
   ],
   "source": [
    "a1 = sum([i for i in data]) / N\n",
    "a2 = sum([i**2 for i in data]) / N\n",
    "x1 = 2 / 3 * a1 - 1.96 * (4 / 9 * (a2 - a1**2))**0.5 / N**0.5\n",
    "x2 = 2 / 3 * a1 + 1.96 * (4 / 9 * (a2 - a1**2))**0.5 / N**0.5\n",
    "print('(', x1, ';', x2,')')\n",
    "d2 = x2 - x1"
   ]
  },
  {
   "cell_type": "markdown",
   "id": "c4e35497-5530-4db2-bbc3-8f107a11c508",
   "metadata": {},
   "source": [
    "ОММП"
   ]
  },
  {
   "cell_type": "code",
   "execution_count": 104,
   "id": "63bb3cd8-3411-4497-8d92-c6057e33bbe2",
   "metadata": {},
   "outputs": [
    {
     "name": "stdout",
     "output_type": "stream",
     "text": [
      "( 79.99200000000002 ; 118.99307462686568 )\n"
     ]
    }
   ],
   "source": [
    "x1 = (N + 1) / (2 * N + 1) * max(data) * (1 - 1.96 / N**0.5)\n",
    "x2 = (N + 1) / (2 * N + 1) * max(data) * (1 + 1.96 / N**0.5)\n",
    "print('(', x1, ';', x2,')')\n",
    "d3 = x2 - x1"
   ]
  },
  {
   "cell_type": "markdown",
   "id": "d2130404-9198-4a95-b55f-27534f6b696d",
   "metadata": {},
   "source": [
    "бутстраповский непараметрический доверительный интервал "
   ]
  },
  {
   "cell_type": "code",
   "execution_count": 106,
   "id": "62897169-053e-44a0-bac4-efee5a30eed8",
   "metadata": {},
   "outputs": [],
   "source": [
    "def diagn_t(d):\n",
    "    return (N + 1) / (2 * N + 1) * max(d)"
   ]
  },
  {
   "cell_type": "code",
   "execution_count": 107,
   "id": "7144bc86-5bce-4d98-859a-3319c33dfcda",
   "metadata": {},
   "outputs": [],
   "source": [
    "d_t = (N + 1) / (2 * N + 1) * max(data)"
   ]
  },
  {
   "cell_type": "code",
   "execution_count": 108,
   "id": "7748a3fd-be68-4158-a9a1-6228644ff49c",
   "metadata": {},
   "outputs": [],
   "source": [
    "b = sorted([diagn_t(rd.choices(data, k=len(data))) - d_t for _ in range(1000)])"
   ]
  },
  {
   "cell_type": "code",
   "execution_count": 109,
   "id": "2cda4c29-d2cc-4176-ba1a-98c1d2324c23",
   "metadata": {},
   "outputs": [
    {
     "name": "stdout",
     "output_type": "stream",
     "text": [
      "( 99.49253731343285 ; 101.50248756218907 )\n"
     ]
    }
   ],
   "source": [
    "x1 = d_t - b[974]\n",
    "x2 = d_t -b[24]\n",
    "print('(', x1, ';', x2,')')\n",
    "d4 = x2 - x1"
   ]
  },
  {
   "cell_type": "markdown",
   "id": "7a04ea34-9123-49f5-aa81-79577d3e9028",
   "metadata": {},
   "source": [
    "бутстраповский параметрический доверительный интервал "
   ]
  },
  {
   "cell_type": "code",
   "execution_count": 110,
   "id": "39fa7e43-5b53-4b76-bd6f-afecc22c0114",
   "metadata": {},
   "outputs": [],
   "source": [
    "b = sorted([diagn_t([rd.randint(t, 2 * t) for i in range(N)]) - d_t for _ in range(50000)])"
   ]
  },
  {
   "cell_type": "code",
   "execution_count": 111,
   "id": "6dd44543-c847-4a98-88e6-b55b4272b9dc",
   "metadata": {},
   "outputs": [
    {
     "name": "stdout",
     "output_type": "stream",
     "text": [
      "( 99.99502487562191 ; 102.00497512437812 )\n"
     ]
    }
   ],
   "source": [
    "x1 = d_t - b[974]\n",
    "x2 = d_t -b[24]\n",
    "print('(', x1, ';', x2,')')\n",
    "d5 = x2 - x1"
   ]
  },
  {
   "cell_type": "markdown",
   "id": "4d02a6af-bf3e-4114-a726-ba2805e5add9",
   "metadata": {},
   "source": [
    "Сравнение интервалов"
   ]
  },
  {
   "cell_type": "code",
   "execution_count": 119,
   "id": "4a73c014-984c-40f8-9fa9-0922e0b6bb60",
   "metadata": {},
   "outputs": [
    {
     "name": "stdout",
     "output_type": "stream",
     "text": [
      "наименьшая ширина 1.8132559777659907 у точного доверительного интервала\n"
     ]
    }
   ],
   "source": [
    "print('наименьшая ширина', min(d1, d2, d3, d4, d5), 'у точного доверительного интервала')"
   ]
  },
  {
   "cell_type": "code",
   "execution_count": null,
   "id": "0be5c4d7-183c-4d60-9881-a4d8ee347fce",
   "metadata": {},
   "outputs": [],
   "source": []
  }
 ],
 "metadata": {
  "kernelspec": {
   "display_name": "Python 3 (ipykernel)",
   "language": "python",
   "name": "python3"
  },
  "language_info": {
   "codemirror_mode": {
    "name": "ipython",
    "version": 3
   },
   "file_extension": ".py",
   "mimetype": "text/x-python",
   "name": "python",
   "nbconvert_exporter": "python",
   "pygments_lexer": "ipython3",
   "version": "3.9.7"
  }
 },
 "nbformat": 4,
 "nbformat_minor": 5
}
