{
 "cells": [
  {
   "cell_type": "code",
   "execution_count": 2,
   "id": "04a0185b-a854-41d0-811d-0a1aa3a43937",
   "metadata": {},
   "outputs": [],
   "source": [
    "import numpy as np\n",
    "import matplotlib.pyplot as plt\n",
    "from scipy import integrate\n",
    "from scipy.stats import chi2\n",
    "from scipy.special import gammainc, gamma"
   ]
  },
  {
   "cell_type": "markdown",
   "id": "689ef1c5-8f71-4321-a42d-d77fd58c7936",
   "metadata": {},
   "source": [
    "a)"
   ]
  },
  {
   "cell_type": "code",
   "execution_count": 3,
   "id": "c6301054-b389-4b68-b658-188cd2145c38",
   "metadata": {},
   "outputs": [],
   "source": [
    "data = [5, 8, 6, 12, 14, 18, 11, 6, 13, 7]\n",
    "x = [i for i in range(10)]\n",
    "N = 100\n",
    "y = [i / N for i in data]\n",
    "for i in range(1, len(y)):\n",
    "    y[i] += y[i - 1]\n",
    "y_r = [0.1] * len(x)\n",
    "for i in range(1, len(x)):\n",
    "    y_r[i] += y_r[i - 1]"
   ]
  },
  {
   "cell_type": "code",
   "execution_count": 4,
   "id": "8c1e8376-24ad-4ac6-a6bb-55d457d3ffad",
   "metadata": {},
   "outputs": [],
   "source": [
    "m = max([abs(y[i] - y_r[i]) for i in range(len(x))] + [abs(y[i - 1] - y_r[i]) for i in range(1, len(x))])"
   ]
  },
  {
   "cell_type": "code",
   "execution_count": 5,
   "id": "52d1ed59-786d-473c-ad23-54efceed54f2",
   "metadata": {},
   "outputs": [
    {
     "data": {
      "text/plain": [
       "2.1"
      ]
     },
     "execution_count": 5,
     "metadata": {},
     "output_type": "execute_result"
    }
   ],
   "source": [
    "delta = N**0.5 * m\n",
    "delta"
   ]
  },
  {
   "cell_type": "markdown",
   "id": "045610a9-0700-4ab3-8aa2-54e5725421ef",
   "metadata": {},
   "source": [
    "b)"
   ]
  },
  {
   "cell_type": "code",
   "execution_count": 6,
   "id": "3d787270-b5bf-49fa-94ca-43281ed01070",
   "metadata": {},
   "outputs": [],
   "source": [
    "def gauss(x, a, sigma):\n",
    "    return 1 / (sigma * np.sqrt(2 * np.pi)) * np.exp(-(x - a)**2 / (2 * sigma**2) )"
   ]
  },
  {
   "cell_type": "code",
   "execution_count": 7,
   "id": "15976c09-f4ab-4ff2-96a3-f46bc835c0f3",
   "metadata": {},
   "outputs": [],
   "source": [
    "intervals =[-np.inf] + [i / 10 for i in range(5, 86, 10)] + [np.inf]\n",
    "sigma = np.linspace(0, 5, 100)\n",
    "a = np.linspace(0, 9, 100)"
   ]
  },
  {
   "cell_type": "code",
   "execution_count": 8,
   "id": "8750960f-0a61-4328-a61f-4c782149bc53",
   "metadata": {},
   "outputs": [
    {
     "name": "stderr",
     "output_type": "stream",
     "text": [
      "C:\\Users\\0717~1\\AppData\\Local\\Temp/ipykernel_15716/3038143254.py:2: RuntimeWarning: divide by zero encountered in double_scalars\n",
      "  return 1 / (sigma * np.sqrt(2 * np.pi)) * np.exp(-(x - a)**2 / (2 * sigma**2) )\n",
      "C:\\Users\\0717~1\\AppData\\Local\\Temp/ipykernel_15716/3038143254.py:2: RuntimeWarning: invalid value encountered in double_scalars\n",
      "  return 1 / (sigma * np.sqrt(2 * np.pi)) * np.exp(-(x - a)**2 / (2 * sigma**2) )\n",
      "C:\\Users\\0717~1\\AppData\\Local\\Temp/ipykernel_15716/649639075.py:6: IntegrationWarning: The occurrence of roundoff error is detected, which prevents \n",
      "  the requested tolerance from being achieved.  The error may be \n",
      "  underestimated.\n",
      "  p.append(integrate.quad(gauss, intervals[i], intervals[i+1], args = (a_i, sigma_i))[0])\n"
     ]
    }
   ],
   "source": [
    "l_max, est = 0, []\n",
    "for a_i in a:\n",
    "    for sigma_i in sigma:\n",
    "        p = []\n",
    "        for i in range(len(intervals) - 1):\n",
    "            p.append(integrate.quad(gauss, intervals[i], intervals[i+1], args = (a_i, sigma_i))[0])\n",
    "        l = np.prod([p[elem]**data[elem] for elem in range(len(data))])\n",
    "        if l > l_max:\n",
    "            l_max, est = l, [round(a_i, 2), round(sigma_i, 2)]"
   ]
  },
  {
   "cell_type": "code",
   "execution_count": 9,
   "id": "bd665a6b-89b3-4611-b903-e713c8f515d3",
   "metadata": {},
   "outputs": [
    {
     "name": "stdout",
     "output_type": "stream",
     "text": [
      "оценка а  4.82 , оценка sigma 2.68\n"
     ]
    }
   ],
   "source": [
    "print('оценка а ', est[0], ', оценка sigma', est[1])"
   ]
  },
  {
   "cell_type": "code",
   "execution_count": 10,
   "id": "4bf34647-bb8a-44a6-975a-b6addc91f3a6",
   "metadata": {},
   "outputs": [],
   "source": [
    "p_all = []\n",
    "for i in range(len(intervals) - 1):\n",
    "    p_all.append(integrate.quad(gauss, intervals[i], intervals[i+1], args = (est[0], est[1]))[0])"
   ]
  },
  {
   "cell_type": "code",
   "execution_count": 11,
   "id": "92cf6a28-a82a-4122-88a9-eafb8af53350",
   "metadata": {},
   "outputs": [],
   "source": [
    "deltas = []\n",
    "for i in range(len(x)):\n",
    "    deltas.append((data[i] - N * p_all[i])**2 / (N * p_all[i]))"
   ]
  },
  {
   "cell_type": "code",
   "execution_count": 12,
   "id": "f5e1af98-6f1b-435a-841c-91e4a7770685",
   "metadata": {},
   "outputs": [
    {
     "data": {
      "text/plain": [
       "9.76"
      ]
     },
     "execution_count": 12,
     "metadata": {},
     "output_type": "execute_result"
    }
   ],
   "source": [
    "delta = np.sum(deltas)\n",
    "round(delta, 2)"
   ]
  },
  {
   "cell_type": "code",
   "execution_count": null,
   "id": "913750ec-e65e-4d62-8787-8ad5b38c58ec",
   "metadata": {},
   "outputs": [],
   "source": []
  },
  {
   "cell_type": "code",
   "execution_count": null,
   "id": "0b545f71-f1ff-4dd8-979c-8e1fde8e99cb",
   "metadata": {},
   "outputs": [],
   "source": []
  },
  {
   "cell_type": "code",
   "execution_count": null,
   "id": "d5f59f71-ea25-4f03-8ec8-70be8925ec79",
   "metadata": {},
   "outputs": [],
   "source": []
  }
 ],
 "metadata": {
  "kernelspec": {
   "display_name": "Python 3 (ipykernel)",
   "language": "python",
   "name": "python3"
  },
  "language_info": {
   "codemirror_mode": {
    "name": "ipython",
    "version": 3
   },
   "file_extension": ".py",
   "mimetype": "text/x-python",
   "name": "python",
   "nbconvert_exporter": "python",
   "pygments_lexer": "ipython3",
   "version": "3.9.7"
  }
 },
 "nbformat": 4,
 "nbformat_minor": 5
}
