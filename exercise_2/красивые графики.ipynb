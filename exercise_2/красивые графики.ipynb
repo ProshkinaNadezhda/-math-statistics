{
 "cells": [
  {
   "cell_type": "code",
   "execution_count": 15,
   "id": "2aa63559-79a5-4e6a-bb33-ec08f76533e9",
   "metadata": {},
   "outputs": [],
   "source": [
    "import numpy as np\n",
    "import math\n",
    "import matplotlib.pyplot as plt"
   ]
  },
  {
   "cell_type": "code",
   "execution_count": 16,
   "id": "c1002325-f485-4eb3-a56e-9cd8b170f2a8",
   "metadata": {},
   "outputs": [
    {
     "name": "stdout",
     "output_type": "stream",
     "text": [
      "Выборка: [1.9376527635980014, 1.4308541673288182, 0.9767009910418476, 0.841468630257785, 0.16480320071042207, 2.074171176502673, 4.251985981807171, 0.7457871331262805, 0.13912944973958843, 0.09384320957701969, 0.8488260684274339, 0.04907140710563667, 0.34688276343945623, 1.1812462154274048, 2.632779659817261, 0.33269931032525407, 2.8927075595098293, 0.06830426683084229, 2.6724627509914107, 0.05272861827195733, 0.03819698157776085, 0.19331375183439056, 2.241278858171878, 0.9196589382301146, 1.1214686330595842]\n",
      "вариационный ряд: [0.03819698157776085, 0.04907140710563667, 0.05272861827195733, 0.06830426683084229, 0.09384320957701969, 0.13912944973958843, 0.16480320071042207, 0.19331375183439056, 0.33269931032525407, 0.34688276343945623, 0.7457871331262805, 0.841468630257785, 0.8488260684274339, 0.9196589382301146, 0.9767009910418476, 1.1214686330595842, 1.1812462154274048, 1.4308541673288182, 1.9376527635980014, 2.074171176502673, 2.241278858171878, 2.632779659817261, 2.6724627509914107, 2.8927075595098293, 4.251985981807171]\n"
     ]
    }
   ],
   "source": [
    "N = 25\n",
    "x = np.random.exponential(1, N)\n",
    "print('Выборка:', [i for i in x])\n",
    "print('вариационный ряд:', sorted(x))"
   ]
  },
  {
   "cell_type": "markdown",
   "id": "e12261d9-d7c1-47ce-a16b-d6cfd696d7ba",
   "metadata": {},
   "source": [
    "### Пункт а) ###"
   ]
  },
  {
   "cell_type": "code",
   "execution_count": 17,
   "id": "a3fe4ca4-97aa-4cc1-9d73-1cee06738aca",
   "metadata": {},
   "outputs": [
    {
     "name": "stdout",
     "output_type": "stream",
     "text": [
      "Мода:  [1.9376527635980014, 1.4308541673288182, 0.9767009910418476, 0.841468630257785, 0.16480320071042207, 2.074171176502673, 4.251985981807171, 0.7457871331262805, 0.13912944973958843, 0.09384320957701969, 0.8488260684274339, 0.04907140710563667, 0.34688276343945623, 1.1812462154274048, 2.632779659817261, 0.33269931032525407, 2.8927075595098293, 0.06830426683084229, 2.6724627509914107, 0.05272861827195733, 0.03819698157776085, 0.19331375183439056, 2.241278858171878, 0.9196589382301146, 1.1214686330595842]\n",
      "Медиана:  0.8842425033287742\n",
      "Размах:  4.2137890002294105\n",
      "Коэффициент асимметрии:  1.063281629036442\n"
     ]
    }
   ],
   "source": [
    "print('Мода: ', [x[j] for j in range (len(x)) if np.sum(x == x[j]) == max([np.sum(x == x[i]) for i in range (len(x))])])\n",
    "print('Медиана: ', (sorted(x)[math.ceil(len(x) / 2)] + sorted(x)[math.floor(len(x) / 2)]) / 2)\n",
    "print('Размах: ', max(x) - min(x))\n",
    "print('Коэффициент асимметрии: ', len(x)**0.5 * sum([(x[i] - np.mean(x))**3 for i in range(len(x))]) / \n",
    "      (sum([(x[i] - np.mean(x))**2 for i in range(len(x))]))**1.5)"
   ]
  },
  {
   "cell_type": "markdown",
   "id": "9775f0ec-414b-434d-9e86-46136634aed8",
   "metadata": {},
   "source": [
    "### Пункт b) ###"
   ]
  },
  {
   "cell_type": "markdown",
   "id": "34387534-1230-49d7-9753-374f6e9f1c9e",
   "metadata": {},
   "source": [
    "#### Boxplot ####"
   ]
  },
  {
   "cell_type": "code",
   "execution_count": 18,
   "id": "267e3199-b2d1-450a-a7cb-2a8be16a9c32",
   "metadata": {},
   "outputs": [
    {
     "data": {
      "text/plain": [
       "{'whiskers': [<matplotlib.lines.Line2D at 0x24af2eed0d0>,\n",
       "  <matplotlib.lines.Line2D at 0x24af2eed460>],\n",
       " 'caps': [<matplotlib.lines.Line2D at 0x24af2eed7f0>,\n",
       "  <matplotlib.lines.Line2D at 0x24af2eedb80>],\n",
       " 'boxes': [<matplotlib.patches.PathPatch at 0x24af2ec9940>],\n",
       " 'medians': [<matplotlib.lines.Line2D at 0x24af2eedf10>],\n",
       " 'fliers': [<matplotlib.lines.Line2D at 0x24af2efa2e0>],\n",
       " 'means': []}"
      ]
     },
     "execution_count": 18,
     "metadata": {},
     "output_type": "execute_result"
    },
    {
     "data": {
      "image/png": "[encoded data removed]",
      "text/plain": [
       "<Figure size 432x288 with 1 Axes>"
      ]
     },
     "metadata": {
      "needs_background": "light"
     },
     "output_type": "display_data"
    }
   ],
   "source": [
    "plt.boxplot(x, vert=False, patch_artist=True)"
   ]
  },
  {
   "cell_type": "markdown",
   "id": "2f267a56-71a7-4c62-8f71-ce8c3b30afdb",
   "metadata": {},
   "source": [
    "#### Эмпирическая функци распределения ####"
   ]
  },
  {
   "cell_type": "code",
   "execution_count": 19,
   "id": "efbbc73f-96a1-487c-9310-5fd09d576f10",
   "metadata": {},
   "outputs": [
    {
     "data": {
      "image/png": "[encoded data removed]",
      "text/plain": [
       "<Figure size 432x288 with 1 Axes>"
      ]
     },
     "metadata": {
      "needs_background": "light"
     },
     "output_type": "display_data"
    }
   ],
   "source": [
    "plt.scatter(sorted(x), [i / len(x) for i in range(1, 26)], marker = '.', color='indigo')\n",
    "plt.plot([sorted(x)[0] - 0.3, sorted(x)[0]], [0, 0], color='blueviolet')\n",
    "plt.plot([sorted(x)[-1], sorted(x)[-1] + 0.3], [1, 1], color='blueviolet')\n",
    "for i in range(len(x) - 1):\n",
    "    plt.plot(sorted(x)[i:i+2], [(i + 1) / len(x)] * 2, color='blueviolet')"
   ]
  },
  {
   "cell_type": "markdown",
   "id": "2391c1c9-a7e7-4ad2-8f75-809ef1695989",
   "metadata": {},
   "source": [
    "#### Гистограмма ####"
   ]
  },
  {
   "cell_type": "code",
   "execution_count": 20,
   "id": "7968f40d-5531-48cd-9a7c-69f661757ca0",
   "metadata": {},
   "outputs": [],
   "source": [
    "k = int(1 + np.log2(len(x)))"
   ]
  },
  {
   "cell_type": "code",
   "execution_count": 21,
   "id": "13e57a9e-94a4-4c7b-a49a-c49be7c4128c",
   "metadata": {},
   "outputs": [
    {
     "data": {
      "text/plain": [
       "(array([0.61702188, 0.23731611, 0.14238966, 0.14238966, 0.04746322]),\n",
       " array([0.03819698, 0.88095478, 1.72371258, 2.56647038, 3.40922818,\n",
       "        4.25198598]),\n",
       " <BarContainer object of 5 artists>)"
      ]
     },
     "execution_count": 21,
     "metadata": {},
     "output_type": "execute_result"
    },
    {
     "data": {
      "image/png": "[encoded data removed]",
      "text/plain": [
       "<Figure size 432x288 with 1 Axes>"
      ]
     },
     "metadata": {
      "needs_background": "light"
     },
     "output_type": "display_data"
    }
   ],
   "source": [
    "plt.hist(x, bins = int(k), color='indigo', weights=[1 / N / (max(x) - min(x)) * k]*len(x))"
   ]
  },
  {
   "cell_type": "markdown",
   "id": "2b16bc33-6a22-49cf-a577-eacb7b730705",
   "metadata": {},
   "source": [
    "### Пункт c) ###"
   ]
  },
  {
   "cell_type": "markdown",
   "id": "754171f8-06db-4d70-903d-0bcd617cd069",
   "metadata": {},
   "source": [
    "#### Ядерная оценка ####"
   ]
  },
  {
   "cell_type": "code",
   "execution_count": 22,
   "id": "f755af4c-3a29-4500-a552-af2fb8b8d4e8",
   "metadata": {},
   "outputs": [],
   "source": [
    "def q(x, x0):\n",
    "    return 0.75 * (1 - ((x - x0) / h)**2)"
   ]
  },
  {
   "cell_type": "code",
   "execution_count": 23,
   "id": "7faf79c9-62e2-4508-8a81-ad082cc9cbf4",
   "metadata": {},
   "outputs": [],
   "source": [
    "s = (1 / (N - 1) * np.sum([(x[i] - np.mean(x))**2 for i in range(len(x))]))**0.5\n",
    "h = 2.344 * s / N**0.2\n",
    "l = np.linspace(min(x) - h, max(x) + h, 10000)\n",
    "y = np.zeros(len(l))\n",
    "for i in range(len(x)):\n",
    "    left = np.where(l >= (x[i] - h))[0][0]\n",
    "    right = np.where(l <= (x[i] + h))[0][-1]\n",
    "    y[left:right] += q(l[left:right], x[i])"
   ]
  },
  {
   "cell_type": "code",
   "execution_count": 24,
   "id": "cfdafb17-f913-445c-b645-a575249222be",
   "metadata": {},
   "outputs": [
    {
     "data": {
      "text/plain": [
       "[<matplotlib.lines.Line2D at 0x24af306eb20>]"
      ]
     },
     "execution_count": 24,
     "metadata": {},
     "output_type": "execute_result"
    },
    {
     "data": {
      "image/png": "[encoded data removed]",
      "text/plain": [
       "<Figure size 432x288 with 1 Axes>"
      ]
     },
     "metadata": {
      "needs_background": "light"
     },
     "output_type": "display_data"
    }
   ],
   "source": [
    "plt.plot(l, y / N / h)"
   ]
  },
  {
   "cell_type": "markdown",
   "id": "c238579d-f3b1-4552-bd9c-2bfa7ea0c265",
   "metadata": {},
   "source": [
    "### Пункт d) ###"
   ]
  },
  {
   "cell_type": "markdown",
   "id": "cbb1e31f-2f58-4e76-9e56-6acc91985225",
   "metadata": {},
   "source": [
    "#### Плотность распределения среднего арифметического элементов выборки и сравнение с бутстраповской оценкой плотности ####"
   ]
  },
  {
   "cell_type": "code",
   "execution_count": 29,
   "id": "28da6920-d50c-4e6f-bab3-3ce4c845b9a3",
   "metadata": {},
   "outputs": [],
   "source": [
    "def bootstrap(d, f, n):\n",
    "    res = []\n",
    "    for i in range(n):\n",
    "        new_d = np.random.choice(d, len(d))\n",
    "        res.append(f(new_d))\n",
    "    g = list(np.histogram(res))\n",
    "    g[0] = [g[0][i] / (g[1][i+1] - g[1][i]) / len(res) for i in range(len(g[0]))]\n",
    "    plt.stairs(g[0], g[1], fill = 1)\n",
    "    \n",
    "def gaus(p):\n",
    "    D = 1 / N * sum([(x[i] - np.mean(x))**2 for i in range(N)])\n",
    "    return 1 / (2 * np.pi * D / N)**0.5 * np.exp(-(p - np.mean(x))**2 / 2 / D * N)"
   ]
  },
  {
   "cell_type": "code",
   "execution_count": 30,
   "id": "5454396d-f19f-4e33-a307-d7af3da05b23",
   "metadata": {},
   "outputs": [
    {
     "data": {
      "text/plain": [
       "[<matplotlib.lines.Line2D at 0x24af31affd0>]"
      ]
     },
     "execution_count": 30,
     "metadata": {},
     "output_type": "execute_result"
    },
    {
     "data": {
      "image/png": "[encoded data removed]",
      "text/plain": [
       "<Figure size 432x288 with 1 Axes>"
      ]
     },
     "metadata": {
      "needs_background": "light"
     },
     "output_type": "display_data"
    }
   ],
   "source": [
    "bootstrap(x, np.mean, 1000)\n",
    "plt.plot(np.linspace(min(x), max(x), 100), [gaus(i) for i in np.linspace(min(x), max(x), 100)])"
   ]
  },
  {
   "cell_type": "markdown",
   "id": "be4ee4c4-206c-4dd8-9e41-c7c41899d402",
   "metadata": {},
   "source": [
    "### Пункт e) ###"
   ]
  },
  {
   "cell_type": "markdown",
   "id": "04f2f42a-4375-4dab-8cdb-162c0aabee72",
   "metadata": {},
   "source": [
    "#### Бутстраповская оценка плотности распределения коэффициента асимметрии ####"
   ]
  },
  {
   "cell_type": "code",
   "execution_count": 31,
   "id": "14827df1-6936-4b27-ae28-ef3f6b056813",
   "metadata": {},
   "outputs": [],
   "source": [
    "def asymmetry(d):\n",
    "    D = 1 / N * sum([(d[i] - np.mean(d))**2 for i in range(N)])\n",
    "    S =  1 / N * sum([(d[i] - np.mean(d))**3 for i in range(N)])\n",
    "    return S / D**1.5"
   ]
  },
  {
   "cell_type": "code",
   "execution_count": 33,
   "id": "e8c77e9c-58f2-4871-9bcc-301dfefe7740",
   "metadata": {},
   "outputs": [
    {
     "data": {
      "image/png": "[encoded data removed]",
      "text/plain": [
       "<Figure size 432x288 with 1 Axes>"
      ]
     },
     "metadata": {
      "needs_background": "light"
     },
     "output_type": "display_data"
    }
   ],
   "source": [
    "bootstrap(x, asymmetry, 1000)"
   ]
  }
 ],
 "metadata": {
  "kernelspec": {
   "display_name": "Python 3 (ipykernel)",
   "language": "python",
   "name": "python3"
  },
  "language_info": {
   "codemirror_mode": {
    "name": "ipython",
    "version": 3
   },
   "file_extension": ".py",
   "mimetype": "text/x-python",
   "name": "python",
   "nbconvert_exporter": "python",
   "pygments_lexer": "ipython3",
   "version": "3.9.7"
  }
 },
 "nbformat": 4,
 "nbformat_minor": 5
}
