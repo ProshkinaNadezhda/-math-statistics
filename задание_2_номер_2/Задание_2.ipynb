{
 "cells": [
  {
   "cell_type": "code",
   "execution_count": 24,
   "id": "c027dff4-0783-4ff0-ba3c-eb6b6a78b8de",
   "metadata": {},
   "outputs": [],
   "source": [
    "import numpy as np\n",
    "import matplotlib.pyplot as plt\n",
    "import pandas as pd\n",
    "from scipy.stats import f, t"
   ]
  },
  {
   "cell_type": "code",
   "execution_count": 28,
   "id": "8b7ed115-bce5-48f8-b9c6-a3c3f45e1540",
   "metadata": {},
   "outputs": [
    {
     "name": "stdout",
     "output_type": "stream",
     "text": [
      "[84.         85.5        87.81818182 90.         91.        ]\n"
     ]
    }
   ],
   "source": [
    "df = pd.DataFrame({\"Ig\": [83,85,84,85,85,86,86,87,86,87,87,87,88,88,88,88,88,89,90,89,90,90,91,90,92],\n",
    "                   \"№\": [1,1,2,2,2,2,2,2,3,3,3,3,3,3,3,3,3,3,3,4,4,4,4,5,5]})\n",
    "\n",
    "x = pd.get_dummies(df['№'])\n",
    "y = df[\"Ig\"]\n",
    "\n",
    "F = x.T @ x\n",
    "coef = np.linalg.inv(F) @ x.T @ y\n",
    "print(np.array(coef))"
   ]
  },
  {
   "cell_type": "code",
   "execution_count": 27,
   "id": "ce372833-0c81-4acc-9b4a-b4c6b91f9c6e",
   "metadata": {},
   "outputs": [
    {
     "name": "stdout",
     "output_type": "stream",
     "text": [
      " p_value = 0.0002\n"
     ]
    }
   ],
   "source": [
    "TSS = np.sum((y - y.mean())**2)\n",
    "err = y - x @ np.array(coef)\n",
    "RSS = err.T @ err\n",
    "R2 = (TSS - RSS) / TSS\n",
    "delta = R2**2 / (1 - R2**2) * 20 / 4\n",
    "p_val = 1 - f.cdf(delta, 4, 20)\n",
    "print(f' p_value = {round(p_val, 4)}')"
   ]
  },
  {
   "cell_type": "code",
   "execution_count": null,
   "id": "b9c2b865-ce69-4545-9310-9a85c0e84261",
   "metadata": {},
   "outputs": [],
   "source": [
    "print('H0 отвергается, возраст влияет')"
   ]
  },
  {
   "cell_type": "code",
   "execution_count": null,
   "id": "2c02015c-d87e-4cc8-877d-ec034ba328da",
   "metadata": {},
   "outputs": [],
   "source": []
  },
  {
   "cell_type": "code",
   "execution_count": 29,
   "id": "9ae468d8-ea59-4a65-b474-13266a663697",
   "metadata": {},
   "outputs": [
    {
     "name": "stdout",
     "output_type": "stream",
     "text": [
      "есть однородность между 1 и 2 группой\n",
      "нет однородности между 1 и 3 группой\n",
      "нет однородности между 1 и 4 группой\n",
      "нет однородности между 1 и 5 группой\n",
      "нет однородности между 2 и 3 группой\n",
      "нет однородности между 2 и 4 группой\n",
      "нет однородности между 2 и 5 группой\n",
      "нет однородности между 3 и 4 группой\n",
      "нет однородности между 3 и 5 группой\n",
      "есть однородность между 4 и 5 группой\n"
     ]
    }
   ],
   "source": [
    "for i in range(5):\n",
    "    for j in range(i+1, 5):\n",
    "        d = 20**0.5 * (coef[i] - coef[j]) / (RSS * (np.linalg.inv(F)[i,i] + np.linalg.inv(F)[j,j]))**0.5\n",
    "        p_val = 2 * (1 - t.cdf(abs(d), 20))\n",
    "        if p_val < 0.05:\n",
    "            print(f'нет однородности между {i+1} и {j+1} группой')\n",
    "        else:\n",
    "            print(f'есть однородность между {i+1} и {j+1} группой')"
   ]
  },
  {
   "cell_type": "code",
   "execution_count": null,
   "id": "9f3966f7-de11-4ae8-a6a7-9f7b3429f28e",
   "metadata": {},
   "outputs": [],
   "source": []
  }
 ],
 "metadata": {
  "kernelspec": {
   "display_name": "Python 3 (ipykernel)",
   "language": "python",
   "name": "python3"
  },
  "language_info": {
   "codemirror_mode": {
    "name": "ipython",
    "version": 3
   },
   "file_extension": ".py",
   "mimetype": "text/x-python",
   "name": "python",
   "nbconvert_exporter": "python",
   "pygments_lexer": "ipython3",
   "version": "3.9.7"
  }
 },
 "nbformat": 4,
 "nbformat_minor": 5
}
