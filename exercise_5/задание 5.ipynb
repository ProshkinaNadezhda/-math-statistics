{
 "cells": [
  {
   "cell_type": "code",
   "execution_count": 59,
   "id": "3dbd77db-2d0b-4562-8fe9-b86be8b3ee7b",
   "metadata": {},
   "outputs": [],
   "source": [
    "import numpy as np\n",
    "import math\n",
    "import random as rd\n",
    "import matplotlib.pyplot as plt\n",
    "import sympy"
   ]
  },
  {
   "cell_type": "code",
   "execution_count": 170,
   "id": "6b4c15ff-7fdc-43f4-94ad-446057305483",
   "metadata": {},
   "outputs": [
    {
     "data": {
      "text/plain": [
       "[1.0685084617623324,\n",
       " 3.0904690433898128,\n",
       " 1.2085436580661417,\n",
       " 1.269333640067151,\n",
       " 1.0523429538690763,\n",
       " 1.4711108386045193,\n",
       " 2.6015478995566648,\n",
       " 1.114861620345971,\n",
       " 1.5125611804168222,\n",
       " 1.0639185775222364,\n",
       " 1.174949542078375,\n",
       " 1.2648908828368157,\n",
       " 1.64627779468085,\n",
       " 1.0254370426910857,\n",
       " 2.2158333447979506,\n",
       " 1.0794033191443972,\n",
       " 1.4869165114189455,\n",
       " 1.302150522529476,\n",
       " 1.265510625127682,\n",
       " 1.4179896812339559,\n",
       " 1.0310647506167816,\n",
       " 1.798001848592146,\n",
       " 1.369447450678543,\n",
       " 1.0735001105217215,\n",
       " 1.005188279332122,\n",
       " 1.1996768628970003,\n",
       " 1.0679270237017233,\n",
       " 1.1081742955834706,\n",
       " 1.03093367375586,\n",
       " 1.00105398139674,\n",
       " 1.0061180898881432,\n",
       " 1.1954236763398702,\n",
       " 1.2603711734338463,\n",
       " 1.500485024794279,\n",
       " 1.06511309333436,\n",
       " 1.2709854332262065,\n",
       " 1.09262058728015,\n",
       " 1.244829728885277,\n",
       " 1.0126275087961412,\n",
       " 1.084323897042136,\n",
       " 1.7554145874567066,\n",
       " 1.7192820566333198,\n",
       " 1.8066368934198465,\n",
       " 1.2899746514009418,\n",
       " 1.1225834156884626,\n",
       " 1.1500779717952088,\n",
       " 1.0533633265276172,\n",
       " 1.776640412541884,\n",
       " 1.0276841284652611,\n",
       " 1.0023539037517186,\n",
       " 1.2374670446817453,\n",
       " 1.1295432558222223,\n",
       " 1.0712645141966195,\n",
       " 1.0036886521545831,\n",
       " 1.109066269163573,\n",
       " 1.1676390326470303,\n",
       " 1.0778178976054384,\n",
       " 1.535934199988786,\n",
       " 1.2452671966119506,\n",
       " 2.250954751894331,\n",
       " 1.1659523834950063,\n",
       " 1.259318383299032,\n",
       " 1.0030142291797801,\n",
       " 1.1702896586904852,\n",
       " 1.7244907774953475,\n",
       " 1.0078469327489095,\n",
       " 2.5794562136056376,\n",
       " 1.216368291771056,\n",
       " 1.0366257705836635,\n",
       " 2.4944257519806747,\n",
       " 1.3443306971004283,\n",
       " 1.1914137678824117,\n",
       " 1.0495440620745067,\n",
       " 1.1047457824580786,\n",
       " 1.0042448163322968,\n",
       " 1.1782276236654892,\n",
       " 1.760169638136197,\n",
       " 1.3676659707103729,\n",
       " 1.0737458147772028,\n",
       " 1.1413787761054754,\n",
       " 1.2623889979736678,\n",
       " 1.4157679526706966,\n",
       " 1.0149571149266081,\n",
       " 2.0767474674621758,\n",
       " 1.1182847949117247,\n",
       " 1.203610668695473,\n",
       " 1.1637942607751703,\n",
       " 1.1693681204614723,\n",
       " 1.0759678736022449,\n",
       " 1.1059371407205856,\n",
       " 1.201365272384517,\n",
       " 1.1907493976464556,\n",
       " 1.130174309761929,\n",
       " 1.2741851953162229,\n",
       " 1.8558859577034228,\n",
       " 4.374965820725152,\n",
       " 1.212105401584169,\n",
       " 1.2054661423399389,\n",
       " 1.0502308960115996,\n",
       " 1.1513600045329897]"
      ]
     },
     "execution_count": 170,
     "metadata": {},
     "output_type": "execute_result"
    }
   ],
   "source": [
    "t, N, b = 5, 100, 0.95\n",
    "data = [(1 - y)**(1 / (1 - t)) for y in [rd.uniform(0, 1) for _ in range(N)]]\n",
    "data"
   ]
  },
  {
   "cell_type": "markdown",
   "id": "377b992b-48d8-4f3e-b576-5d7abfbc5ee1",
   "metadata": {},
   "source": [
    "Доверительный интервал для медианы"
   ]
  },
  {
   "cell_type": "code",
   "execution_count": 171,
   "id": "f7caa4eb-85c1-47f1-8381-8ec00fd75a82",
   "metadata": {},
   "outputs": [
    {
     "name": "stdout",
     "output_type": "stream",
     "text": [
      "медиана выборки: 1.1844885106559724\n"
     ]
    }
   ],
   "source": [
    "print('медиана выборки:', (sorted(data)[N // 2] + sorted(data)[N // 2 - 1]) / 2)"
   ]
  },
  {
   "cell_type": "code",
   "execution_count": 172,
   "id": "19936c88-0f1c-4a89-b623-36c6ae571a96",
   "metadata": {},
   "outputs": [],
   "source": [
    "d_t = 1 + N / sum([np.log(x) for x in data])"
   ]
  },
  {
   "cell_type": "code",
   "execution_count": 173,
   "id": "4a9dcda7-36cf-4ae9-96c3-f64659d044ec",
   "metadata": {},
   "outputs": [
    {
     "name": "stdout",
     "output_type": "stream",
     "text": [
      "( 1.1498811216675004 ; 1.2312982954436131 )\n"
     ]
    }
   ],
   "source": [
    "x1 = 2**(1 / (d_t - 1)) * (1 - 1.96 * np.log(2) / ((d_t - 1) * N**0.5))\n",
    "x2 = 2**(1 / (d_t - 1)) * (1 + 1.96 * np.log(2) / ((d_t - 1) * N**0.5))\n",
    "print('(', x1, ';', x2,')')"
   ]
  },
  {
   "cell_type": "markdown",
   "id": "0dc5b30a-47ef-4917-aa03-1cd84d2609d3",
   "metadata": {},
   "source": [
    "Байесовский доверительный интервал"
   ]
  },
  {
   "cell_type": "code",
   "execution_count": null,
   "id": "2386f9b9-65a6-4e11-a20b-6535827abf6b",
   "metadata": {},
   "outputs": [],
   "source": []
  },
  {
   "cell_type": "code",
   "execution_count": null,
   "id": "e51b8d3d-0bbc-4895-b948-934df1423981",
   "metadata": {},
   "outputs": [],
   "source": []
  },
  {
   "cell_type": "markdown",
   "id": "66fad52b-59fe-433f-ac93-fc496a3093fa",
   "metadata": {},
   "source": [
    "Асимптотический доверительный интервал"
   ]
  },
  {
   "cell_type": "code",
   "execution_count": 174,
   "id": "48a91f4f-add8-4c43-a6a1-c00f62d1aabd",
   "metadata": {},
   "outputs": [
    {
     "name": "stdout",
     "output_type": "stream",
     "text": [
      "( 4.194579337430696 ; 5.752135432297404 )\n"
     ]
    }
   ],
   "source": [
    "x1 = d_t - 1.96 * (d_t - 1) / N**0.5\n",
    "x2 = d_t + 1.96 * (d_t - 1) / N**0.5\n",
    "print('(', x1, ';', x2,')')\n",
    "d1 = x2 - x1"
   ]
  },
  {
   "cell_type": "markdown",
   "id": "d9152c14-7438-46f2-a28c-764ffbf1b3a3",
   "metadata": {},
   "source": [
    "бутстраповский непараметрический доверительный интервал "
   ]
  },
  {
   "cell_type": "code",
   "execution_count": 175,
   "id": "9db9d19f-ff3e-460a-9d44-3584015fb534",
   "metadata": {},
   "outputs": [],
   "source": [
    "def diagn_t(d):\n",
    "    return 1 + N / sum([np.log(x) for x in d])"
   ]
  },
  {
   "cell_type": "code",
   "execution_count": 176,
   "id": "c9cb1feb-5b62-4105-acdc-1f28e645b11a",
   "metadata": {},
   "outputs": [],
   "source": [
    "b = sorted([diagn_t(rd.choices(data, k=len(data))) - d_t for _ in range(1000)])"
   ]
  },
  {
   "cell_type": "code",
   "execution_count": 177,
   "id": "f76d78e9-cf2f-4611-9a76-f682971956e7",
   "metadata": {},
   "outputs": [
    {
     "name": "stdout",
     "output_type": "stream",
     "text": [
      "( 3.961193849474192 ; 5.680087431194842 )\n"
     ]
    }
   ],
   "source": [
    "x1 = d_t - b[974]\n",
    "x2 = d_t - b[24]\n",
    "print('(', x1, ';', x2,')')\n",
    "d2 = x2 - x1"
   ]
  },
  {
   "cell_type": "markdown",
   "id": "ceb668ae-d576-4833-92bf-254bba487d6d",
   "metadata": {},
   "source": [
    "бутстраповский параметрический доверительный интервал "
   ]
  },
  {
   "cell_type": "code",
   "execution_count": 182,
   "id": "c794e220-876f-4af5-8cd0-d0995e0c88dd",
   "metadata": {},
   "outputs": [],
   "source": [
    "b = sorted([diagn_t([(1 - y)**(1 / (1 - t)) for y in [rd.uniform(0, 1) for _ in range(N)]]) - d_t for _ in range(50000)])"
   ]
  },
  {
   "cell_type": "code",
   "execution_count": 183,
   "id": "c405d56e-a6d6-4b55-b8c8-4439cc2557ea",
   "metadata": {},
   "outputs": [
    {
     "name": "stdout",
     "output_type": "stream",
     "text": [
      "( 5.662045034552374 ; 5.994380088827796 )\n"
     ]
    }
   ],
   "source": [
    "x1 = d_t - b[974]\n",
    "x2 = d_t - b[24]\n",
    "print('(', x1, ';', x2,')')\n",
    "d3 = x2 - x1"
   ]
  },
  {
   "cell_type": "markdown",
   "id": "1a6b6508-f57d-4107-8eea-5700e5e42b2a",
   "metadata": {},
   "source": [
    "Сравнение интервалов"
   ]
  },
  {
   "cell_type": "code",
   "execution_count": 184,
   "id": "d7a523ae-7cf6-4816-b9a2-412d6bc833fb",
   "metadata": {},
   "outputs": [
    {
     "name": "stdout",
     "output_type": "stream",
     "text": [
      "наименьшая ширина 0.332335054275422 у \n"
     ]
    }
   ],
   "source": [
    "print('наименьшая ширина', min(d1, d2, d3), 'у ')"
   ]
  },
  {
   "cell_type": "code",
   "execution_count": null,
   "id": "c453777e-e629-4391-8b57-3d9ffc1127ee",
   "metadata": {},
   "outputs": [],
   "source": []
  }
 ],
 "metadata": {
  "kernelspec": {
   "display_name": "Python 3 (ipykernel)",
   "language": "python",
   "name": "python3"
  },
  "language_info": {
   "codemirror_mode": {
    "name": "ipython",
    "version": 3
   },
   "file_extension": ".py",
   "mimetype": "text/x-python",
   "name": "python",
   "nbconvert_exporter": "python",
   "pygments_lexer": "ipython3",
   "version": "3.9.7"
  }
 },
 "nbformat": 4,
 "nbformat_minor": 5
}
